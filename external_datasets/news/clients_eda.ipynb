{
  "nbformat": 4,
  "nbformat_minor": 0,
  "metadata": {
    "colab": {
      "provenance": [],
      "toc_visible": true,
      "authorship_tag": "ABX9TyMLRWiv9Lcg9Mmesk/91kNt",
      "include_colab_link": true
    },
    "kernelspec": {
      "name": "python3",
      "display_name": "Python 3"
    },
    "language_info": {
      "name": "python"
    }
  },
  "cells": [
    {
      "cell_type": "markdown",
      "metadata": {
        "id": "view-in-github",
        "colab_type": "text"
      },
      "source": [
        "<a href=\"https://colab.research.google.com/github/bsenst/UWWi_DataDive_Dec22/blob/main/external_datasets/news/clients_eda.ipynb\" target=\"_parent\"><img src=\"https://colab.research.google.com/assets/colab-badge.svg\" alt=\"Open In Colab\"/></a>"
      ]
    },
    {
      "cell_type": "code",
      "execution_count": 1,
      "metadata": {
        "colab": {
          "base_uri": "https://localhost:8080/"
        },
        "id": "SJGijwUDEZOs",
        "outputId": "876d3659-2d29-4799-9867-64d1464a7b5f"
      },
      "outputs": [
        {
          "output_type": "stream",
          "name": "stdout",
          "text": [
            "--2022-12-03 22:19:28--  https://github.com/bsenst/UWWi_DataDive_Dec22/raw/main/building_client_persona/client_data_with_ADI_SVI_Indices.csv.zip\n",
            "Resolving github.com (github.com)... 192.30.255.113\n",
            "Connecting to github.com (github.com)|192.30.255.113|:443... connected.\n",
            "HTTP request sent, awaiting response... 302 Found\n",
            "Location: https://raw.githubusercontent.com/bsenst/UWWi_DataDive_Dec22/main/building_client_persona/client_data_with_ADI_SVI_Indices.csv.zip [following]\n",
            "--2022-12-03 22:19:28--  https://raw.githubusercontent.com/bsenst/UWWi_DataDive_Dec22/main/building_client_persona/client_data_with_ADI_SVI_Indices.csv.zip\n",
            "Resolving raw.githubusercontent.com (raw.githubusercontent.com)... 185.199.108.133, 185.199.109.133, 185.199.110.133, ...\n",
            "Connecting to raw.githubusercontent.com (raw.githubusercontent.com)|185.199.108.133|:443... connected.\n",
            "HTTP request sent, awaiting response... 200 OK\n",
            "Length: 23275537 (22M) [application/zip]\n",
            "Saving to: ‘client_data_with_ADI_SVI_Indices.csv.zip’\n",
            "\n",
            "client_data_with_AD 100%[===================>]  22.20M  --.-KB/s    in 0.1s    \n",
            "\n",
            "2022-12-03 22:19:29 (156 MB/s) - ‘client_data_with_ADI_SVI_Indices.csv.zip’ saved [23275537/23275537]\n",
            "\n"
          ]
        }
      ],
      "source": [
        "! wget https://github.com/bsenst/UWWi_DataDive_Dec22/raw/main/building_client_persona/client_data_with_ADI_SVI_Indices.csv.zip"
      ]
    },
    {
      "cell_type": "code",
      "source": [
        "! unzip /content/client_data_with_ADI_SVI_Indices.csv.zip"
      ],
      "metadata": {
        "colab": {
          "base_uri": "https://localhost:8080/"
        },
        "id": "Y9B0-TrnEsPT",
        "outputId": "37e7ac9a-c6f7-4b31-821a-f0f7d9dcad85"
      },
      "execution_count": 2,
      "outputs": [
        {
          "output_type": "stream",
          "name": "stdout",
          "text": [
            "Archive:  /content/client_data_with_ADI_SVI_Indices.csv.zip\n",
            "  inflating: client_data_with_ADI_SVI_Indices.csv  \n"
          ]
        }
      ]
    },
    {
      "cell_type": "code",
      "source": [
        "import pandas as pd\n",
        "import matplotlib.pyplot as plt\n",
        "\n",
        "clients = pd.read_csv(\"/content/client_data_with_ADI_SVI_Indices.csv.zip\")"
      ],
      "metadata": {
        "colab": {
          "base_uri": "https://localhost:8080/"
        },
        "id": "ghYW_yE4Ew9r",
        "outputId": "4d7fa8d1-7104-45e5-cf93-245bc9eb903c"
      },
      "execution_count": 31,
      "outputs": [
        {
          "output_type": "stream",
          "name": "stderr",
          "text": [
            "/usr/local/lib/python3.8/dist-packages/IPython/core/interactiveshell.py:3326: DtypeWarning: Columns (4,10) have mixed types.Specify dtype option on import or set low_memory=False.\n",
            "  exec(code_obj, self.user_global_ns, self.user_ns)\n"
          ]
        }
      ]
    },
    {
      "cell_type": "code",
      "source": [
        "clients.info()"
      ],
      "metadata": {
        "colab": {
          "base_uri": "https://localhost:8080/"
        },
        "id": "mc2RiZT9E42p",
        "outputId": "46e52ced-1a77-40d9-9214-0640d2b3ef73"
      },
      "execution_count": 6,
      "outputs": [
        {
          "output_type": "stream",
          "name": "stdout",
          "text": [
            "<class 'pandas.core.frame.DataFrame'>\n",
            "RangeIndex: 796761 entries, 0 to 796760\n",
            "Data columns (total 19 columns):\n",
            " #   Column                                     Non-Null Count   Dtype  \n",
            "---  ------                                     --------------   -----  \n",
            " 0   Client_Id                                  796761 non-null  int64  \n",
            " 1   Client_CreateStamp                         796761 non-null  object \n",
            " 2   Client_EditStamp                           796761 non-null  object \n",
            " 3   ClientOption_PreferredLanguageOfCaller     796761 non-null  object \n",
            " 4   ClientSystem_PreferredLanguageOther        431 non-null     object \n",
            " 5   ClientAddressus_ClientAddressus_city       795992 non-null  object \n",
            " 6   ClientAddressus_ClientAddressus_county     796761 non-null  object \n",
            " 7   ClientAddressus_ClientAddressus_state      796761 non-null  object \n",
            " 8   ClientAddressus_ClientAddressus_zip        756533 non-null  float64\n",
            " 9   ClientCustom_AgeOfPersonNeedingAssistance  91447 non-null   float64\n",
            " 10  ClientCustom_EthnicityOther                187 non-null     object \n",
            " 11  ClientOption_GenderOptionId                796761 non-null  object \n",
            " 12  ClientOption_VeteranStatusOptionlist       796761 non-null  object \n",
            " 13  ADI_STATERANK                              466932 non-null  float64\n",
            " 14  RPL_THEMES                                 779225 non-null  float64\n",
            " 15  RPL_THEME1                                 779225 non-null  float64\n",
            " 16  RPL_THEME2                                 779225 non-null  float64\n",
            " 17  RPL_THEME3                                 779225 non-null  float64\n",
            " 18  RPL_THEME4                                 779225 non-null  float64\n",
            "dtypes: float64(8), int64(1), object(10)\n",
            "memory usage: 115.5+ MB\n"
          ]
        }
      ]
    },
    {
      "cell_type": "markdown",
      "source": [
        "# Almost 800k Clients"
      ],
      "metadata": {
        "id": "wStgeYOoGgCN"
      }
    },
    {
      "cell_type": "code",
      "source": [
        "len(clients.Client_Id.unique())"
      ],
      "metadata": {
        "colab": {
          "base_uri": "https://localhost:8080/"
        },
        "id": "-FYB4lGGE-D1",
        "outputId": "62b946df-dc74-4cfc-e5d6-8ab6785ed6d8"
      },
      "execution_count": 8,
      "outputs": [
        {
          "output_type": "execute_result",
          "data": {
            "text/plain": [
              "796761"
            ]
          },
          "metadata": {},
          "execution_count": 8
        }
      ]
    },
    {
      "cell_type": "markdown",
      "source": [
        "# Available Client Features"
      ],
      "metadata": {
        "id": "rl7Pp6yoHK3f"
      }
    },
    {
      "cell_type": "code",
      "source": [
        "clients.isna().sum()"
      ],
      "metadata": {
        "colab": {
          "base_uri": "https://localhost:8080/"
        },
        "id": "chfJ76czFK9f",
        "outputId": "4a1c122c-608c-4476-fa02-25691a947dd0"
      },
      "execution_count": 11,
      "outputs": [
        {
          "output_type": "execute_result",
          "data": {
            "text/plain": [
              "Client_Id                                         0\n",
              "Client_CreateStamp                                0\n",
              "Client_EditStamp                                  0\n",
              "ClientOption_PreferredLanguageOfCaller            0\n",
              "ClientSystem_PreferredLanguageOther          796330\n",
              "ClientAddressus_ClientAddressus_city            769\n",
              "ClientAddressus_ClientAddressus_county            0\n",
              "ClientAddressus_ClientAddressus_state             0\n",
              "ClientAddressus_ClientAddressus_zip           40228\n",
              "ClientCustom_AgeOfPersonNeedingAssistance    705314\n",
              "ClientCustom_EthnicityOther                  796574\n",
              "ClientOption_GenderOptionId                       0\n",
              "ClientOption_VeteranStatusOptionlist              0\n",
              "ADI_STATERANK                                329829\n",
              "RPL_THEMES                                    17536\n",
              "RPL_THEME1                                    17536\n",
              "RPL_THEME2                                    17536\n",
              "RPL_THEME3                                    17536\n",
              "RPL_THEME4                                    17536\n",
              "dtype: int64"
            ]
          },
          "metadata": {},
          "execution_count": 11
        }
      ]
    },
    {
      "cell_type": "markdown",
      "source": [
        "# twice as many women as men"
      ],
      "metadata": {
        "id": "73uQai4DNR8E"
      }
    },
    {
      "cell_type": "code",
      "source": [
        "\n",
        "for k, v in clients.ClientOption_GenderOptionId.value_counts().items():\n",
        "  if k == \"[]\":\n",
        "    k = \"Not answered\"\n",
        "  else:\n",
        "    k = k.split(\"'\")[1]\n",
        "  print(k.ljust(14), v)"
      ],
      "metadata": {
        "colab": {
          "base_uri": "https://localhost:8080/"
        },
        "id": "M42jDGtaLuFm",
        "outputId": "7794d3c5-a19a-4126-b7ca-62bf042d98a2"
      },
      "execution_count": 56,
      "outputs": [
        {
          "output_type": "stream",
          "name": "stdout",
          "text": [
            "Not answered   549757\n",
            "Female         166417\n",
            "Male           79077\n",
            "Unknown        1227\n",
            "Transgender    200\n",
            "Refused        47\n",
            "Other          27\n",
            "DO NOT USE - Transgendered Female to Male 9\n"
          ]
        }
      ]
    },
    {
      "cell_type": "markdown",
      "source": [
        "# Clients almost equally distrib regarding Area Deprivation Index ADI"
      ],
      "metadata": {
        "id": "6JbSri0bGlYr"
      }
    },
    {
      "cell_type": "code",
      "source": [
        "clients.ADI_STATERANK.hist()\n",
        "# seems like clients living in areas with higher standard of living are also calling UWWi ?\n",
        "# interpretation of ADI required"
      ],
      "metadata": {
        "colab": {
          "base_uri": "https://localhost:8080/",
          "height": 282
        },
        "id": "HM8rE6drF-ss",
        "outputId": "edc9e408-5290-49ca-839e-2e7fdf36f2e9"
      },
      "execution_count": 18,
      "outputs": [
        {
          "output_type": "execute_result",
          "data": {
            "text/plain": [
              "<matplotlib.axes._subplots.AxesSubplot at 0x7fee1ddaaeb0>"
            ]
          },
          "metadata": {},
          "execution_count": 18
        },
        {
          "output_type": "display_data",
          "data": {
            "text/plain": [
              "<Figure size 432x288 with 1 Axes>"
            ],
            "image/png": "[encoded data removed]"
          },
          "metadata": {
            "needs_background": "light"
          }
        }
      ]
    },
    {
      "cell_type": "markdown",
      "source": [
        "# Veterans"
      ],
      "metadata": {
        "id": "3zC_4VVKHIKa"
      }
    },
    {
      "cell_type": "code",
      "source": [
        "clients.ClientOption_VeteranStatusOptionlist.value_counts()"
      ],
      "metadata": {
        "colab": {
          "base_uri": "https://localhost:8080/"
        },
        "id": "uslC0q2KG8et",
        "outputId": "f2dd7178-6cb9-4a56-9fc4-5fbba1ac70e0"
      },
      "execution_count": 20,
      "outputs": [
        {
          "output_type": "execute_result",
          "data": {
            "text/plain": [
              "[]                      672889\n",
              "['No']                   91217\n",
              "['N/A']                  27131\n",
              "['Yes']                   5317\n",
              "['Yes', 'No']              100\n",
              "['No', 'N/A']               97\n",
              "['Yes', 'N/A']               7\n",
              "['Yes', 'No', 'N/A']         3\n",
              "Name: ClientOption_VeteranStatusOptionlist, dtype: int64"
            ]
          },
          "metadata": {},
          "execution_count": 20
        }
      ]
    },
    {
      "cell_type": "markdown",
      "source": [
        "# Preferred Languages"
      ],
      "metadata": {
        "id": "0CWGIVcbHZ9Q"
      }
    },
    {
      "cell_type": "code",
      "source": [
        "clients.ClientOption_PreferredLanguageOfCaller.value_counts()"
      ],
      "metadata": {
        "colab": {
          "base_uri": "https://localhost:8080/"
        },
        "id": "reZbmIFTHHtu",
        "outputId": "84a9bbbd-9f93-46bd-df54-69b25de308df"
      },
      "execution_count": 21,
      "outputs": [
        {
          "output_type": "execute_result",
          "data": {
            "text/plain": [
              "[]                            671829\n",
              "['English']                   114121\n",
              "['Spanish']                     7961\n",
              "['Undetermined']                1286\n",
              "['Declined']                     567\n",
              "['Other']                        545\n",
              "['American Sign Language']       174\n",
              "['Hmong']                         91\n",
              "['Chinese']                       52\n",
              "['French']                        34\n",
              "['Vietnamese']                    31\n",
              "['Russian']                       20\n",
              "['German']                        20\n",
              "['Korean']                        15\n",
              "['Italian']                       10\n",
              "['Tagalog']                        5\n",
              "Name: ClientOption_PreferredLanguageOfCaller, dtype: int64"
            ]
          },
          "metadata": {},
          "execution_count": 21
        }
      ]
    },
    {
      "cell_type": "markdown",
      "source": [
        "## non english speakers with lower ADI"
      ],
      "metadata": {
        "id": "fT3GPXysLbVr"
      }
    },
    {
      "cell_type": "code",
      "source": [
        "print(clients[clients.ClientOption_PreferredLanguageOfCaller==\"['English']\"].ADI_STATERANK.mean())\n",
        "print(clients[clients.ClientOption_PreferredLanguageOfCaller==\"['Spanish']\"].ADI_STATERANK.mean())\n",
        "print(clients[clients.ClientOption_PreferredLanguageOfCaller!=\"['English']\"].ADI_STATERANK.mean())\n"
      ],
      "metadata": {
        "colab": {
          "base_uri": "https://localhost:8080/"
        },
        "id": "FaTRSLtdH4MG",
        "outputId": "9a5e5ba0-ca62-46c3-ad65-14e1d1c14bca"
      },
      "execution_count": 26,
      "outputs": [
        {
          "output_type": "stream",
          "name": "stdout",
          "text": [
            "6.838418515905455\n",
            "6.376187202764509\n",
            "5.742406586030799\n"
          ]
        }
      ]
    }
  ]
}