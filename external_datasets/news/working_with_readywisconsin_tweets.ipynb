{
  "nbformat": 4,
  "nbformat_minor": 0,
  "metadata": {
    "colab": {
      "provenance": [],
      "toc_visible": true,
      "authorship_tag": "ABX9TyOODzsciJNaJQ67gmHRVm2j",
      "include_colab_link": true
    },
    "kernelspec": {
      "name": "python3",
      "display_name": "Python 3"
    },
    "language_info": {
      "name": "python"
    }
  },
  "cells": [
    {
      "cell_type": "markdown",
      "metadata": {
        "id": "view-in-github",
        "colab_type": "text"
      },
      "source": [
        "<a href=\"https://colab.research.google.com/github/bsenst/UWWi_DataDive_Dec22/blob/main/external_datasets/news/working_with_readywisconsin_tweets.ipynb\" target=\"_parent\"><img src=\"https://colab.research.google.com/assets/colab-badge.svg\" alt=\"Open In Colab\"/></a>"
      ]
    },
    {
      "cell_type": "markdown",
      "source": [
        "# load tweet csv"
      ],
      "metadata": {
        "id": "BeTeoO2PYW2x"
      }
    },
    {
      "cell_type": "code",
      "execution_count": 1,
      "metadata": {
        "colab": {
          "base_uri": "https://localhost:8080/"
        },
        "id": "BVBlLN_O-vli",
        "outputId": "4dc46322-463a-4bc4-b6d1-1a8f1377e8e7"
      },
      "outputs": [
        {
          "output_type": "stream",
          "name": "stdout",
          "text": [
            "--2022-12-04 13:43:08--  https://github.com/bsenst/UWWi_DataDive_Dec22/raw/main/external_datasets/Weather%20Datasets/ReadyWiscEmergencyAlertTweetArchive.csv\n",
            "Resolving github.com (github.com)... 140.82.112.3\n",
            "Connecting to github.com (github.com)|140.82.112.3|:443... connected.\n",
            "HTTP request sent, awaiting response... 302 Found\n",
            "Location: https://raw.githubusercontent.com/bsenst/UWWi_DataDive_Dec22/main/external_datasets/Weather%20Datasets/ReadyWiscEmergencyAlertTweetArchive.csv [following]\n",
            "--2022-12-04 13:43:09--  https://raw.githubusercontent.com/bsenst/UWWi_DataDive_Dec22/main/external_datasets/Weather%20Datasets/ReadyWiscEmergencyAlertTweetArchive.csv\n",
            "Resolving raw.githubusercontent.com (raw.githubusercontent.com)... 185.199.108.133, 185.199.109.133, 185.199.110.133, ...\n",
            "Connecting to raw.githubusercontent.com (raw.githubusercontent.com)|185.199.108.133|:443... connected.\n",
            "HTTP request sent, awaiting response... 200 OK\n",
            "Length: 18690673 (18M) [text/plain]\n",
            "Saving to: ‘ReadyWiscEmergencyAlertTweetArchive.csv’\n",
            "\n",
            "ReadyWiscEmergencyA 100%[===================>]  17.82M  --.-KB/s    in 0.1s    \n",
            "\n",
            "2022-12-04 13:43:10 (180 MB/s) - ‘ReadyWiscEmergencyAlertTweetArchive.csv’ saved [18690673/18690673]\n",
            "\n"
          ]
        }
      ],
      "source": [
        "! wget https://github.com/bsenst/UWWi_DataDive_Dec22/raw/main/external_datasets/Weather%20Datasets/ReadyWiscEmergencyAlertTweetArchive.csv"
      ]
    },
    {
      "cell_type": "markdown",
      "source": [
        "# import libraries"
      ],
      "metadata": {
        "id": "Gz0KBcceYcA6"
      }
    },
    {
      "cell_type": "code",
      "source": [
        "import pandas as pd\n",
        "import matplotlib.pyplot as plt"
      ],
      "metadata": {
        "id": "6ip5zafpYVX6"
      },
      "execution_count": 26,
      "outputs": []
    },
    {
      "cell_type": "markdown",
      "source": [
        "# discover @ReadyWisconsin tweets"
      ],
      "metadata": {
        "id": "XfzeOA_fYfX5"
      }
    },
    {
      "cell_type": "code",
      "source": [
        "tweets = pd.read_csv(\"/content/ReadyWiscEmergencyAlertTweetArchive.csv\", index_col=0)\n",
        "tweets.info()"
      ],
      "metadata": {
        "colab": {
          "base_uri": "https://localhost:8080/"
        },
        "id": "S6_7PO_eYpP-",
        "outputId": "0f0b91fc-65ac-4e7a-d49c-658e2c020da2"
      },
      "execution_count": 18,
      "outputs": [
        {
          "output_type": "stream",
          "name": "stdout",
          "text": [
            "<class 'pandas.core.frame.DataFrame'>\n",
            "Int64Index: 10000 entries, 0 to 9999\n",
            "Data columns (total 28 columns):\n",
            " #   Column            Non-Null Count  Dtype  \n",
            "---  ------            --------------  -----  \n",
            " 0   _type             10000 non-null  object \n",
            " 1   url               10000 non-null  object \n",
            " 2   date              10000 non-null  object \n",
            " 3   content           10000 non-null  object \n",
            " 4   renderedContent   10000 non-null  object \n",
            " 5   id                10000 non-null  int64  \n",
            " 6   user              10000 non-null  object \n",
            " 7   replyCount        10000 non-null  int64  \n",
            " 8   retweetCount      10000 non-null  int64  \n",
            " 9   likeCount         10000 non-null  int64  \n",
            " 10  quoteCount        10000 non-null  int64  \n",
            " 11  conversationId    10000 non-null  int64  \n",
            " 12  lang              10000 non-null  object \n",
            " 13  source            10000 non-null  object \n",
            " 14  sourceUrl         10000 non-null  object \n",
            " 15  sourceLabel       10000 non-null  object \n",
            " 16  outlinks          2542 non-null   object \n",
            " 17  tcooutlinks       2542 non-null   object \n",
            " 18  media             3436 non-null   object \n",
            " 19  retweetedTweet    0 non-null      float64\n",
            " 20  quotedTweet       435 non-null    object \n",
            " 21  inReplyToTweetId  42 non-null     float64\n",
            " 22  inReplyToUser     42 non-null     object \n",
            " 23  mentionedUsers    286 non-null    object \n",
            " 24  coordinates       0 non-null      float64\n",
            " 25  place             0 non-null      float64\n",
            " 26  hashtags          8237 non-null   object \n",
            " 27  cashtags          0 non-null      float64\n",
            "dtypes: float64(5), int64(6), object(17)\n",
            "memory usage: 2.2+ MB\n"
          ]
        }
      ]
    },
    {
      "cell_type": "code",
      "source": [
        "tweets = tweets.drop([\"_type\", \"user\", \"media\", \"coordinates\", \"place\", \"cashtags\", \"retweetedTweet\"], axis=1)"
      ],
      "metadata": {
        "id": "ir1eUBsJg3h9"
      },
      "execution_count": 19,
      "outputs": []
    },
    {
      "cell_type": "code",
      "source": [
        "tweets.isna().sum()"
      ],
      "metadata": {
        "colab": {
          "base_uri": "https://localhost:8080/"
        },
        "id": "pFCZdbTHhtRU",
        "outputId": "66fd7874-ea6f-4b78-f1d3-8bc1e672f5c7"
      },
      "execution_count": 20,
      "outputs": [
        {
          "output_type": "execute_result",
          "data": {
            "text/plain": [
              "url                    0\n",
              "date                   0\n",
              "content                0\n",
              "renderedContent        0\n",
              "id                     0\n",
              "replyCount             0\n",
              "retweetCount           0\n",
              "likeCount              0\n",
              "quoteCount             0\n",
              "conversationId         0\n",
              "lang                   0\n",
              "source                 0\n",
              "sourceUrl              0\n",
              "sourceLabel            0\n",
              "outlinks            7458\n",
              "tcooutlinks         7458\n",
              "quotedTweet         9565\n",
              "inReplyToTweetId    9958\n",
              "inReplyToUser       9958\n",
              "mentionedUsers      9714\n",
              "hashtags            1763\n",
              "dtype: int64"
            ]
          },
          "metadata": {},
          "execution_count": 20
        }
      ]
    },
    {
      "cell_type": "code",
      "source": [
        "tweets[\"date\"] = pd.to_datetime(tweets[\"date\"])"
      ],
      "metadata": {
        "id": "HnaNi0BEi0d4"
      },
      "execution_count": 23,
      "outputs": []
    },
    {
      "cell_type": "markdown",
      "source": [
        "## 10.000 tweets from 2014 to 2022, seasonality: more tweets during summer"
      ],
      "metadata": {
        "id": "Z1MlBabmjW2T"
      }
    },
    {
      "cell_type": "code",
      "source": [
        "plt.figure(figsize=(16,6))\n",
        "tweets[\"date\"].hist(bins=12*9)\n",
        "plt.show()"
      ],
      "metadata": {
        "colab": {
          "base_uri": "https://localhost:8080/",
          "height": 345
        },
        "id": "RnqREypAjJAH",
        "outputId": "362815a7-3a3b-4c9a-ab91-81b6f21ad3f9"
      },
      "execution_count": 34,
      "outputs": [
        {
          "output_type": "display_data",
          "data": {
            "text/plain": [
              "<Figure size 1152x432 with 1 Axes>"
            ],
            "image/png": "[encoded data removed]"
          },
          "metadata": {
            "needs_background": "light"
          }
        }
      ]
    },
    {
      "cell_type": "markdown",
      "source": [
        "# loading uwwi datasets"
      ],
      "metadata": {
        "id": "8mqcqb-DkKWH"
      }
    },
    {
      "cell_type": "code",
      "source": [
        "uwwi22 = pd.read_csv(\"https://github.com/datakind/UWWi_DataDive_Dec22/raw/main/uwwi_datasets/uwwi_dataset_interactions/uwwi_dataset_interactions_2022.csv\")\n",
        "uwwi21 = pd.read_csv(\"https://github.com/datakind/UWWi_DataDive_Dec22/raw/main/uwwi_datasets/uwwi_dataset_interactions/uwwi_dataset_interactions_2021.csv\")\n",
        "uwwi20 = pd.read_csv(\"https://github.com/datakind/UWWi_DataDive_Dec22/raw/main/uwwi_datasets/uwwi_dataset_interactions/uwwi_dataset_interactions_2020.csv\")\n",
        "\n",
        "uwwi = pd.DataFrame()\n",
        "uwwi = pd.concat([uwwi20, uwwi21, uwwi22])\n",
        "\n",
        "uwwi[\"Interaction_CreateStamp\"] = pd.to_datetime(uwwi.Interaction_CreateStamp, utc=True)\n",
        "uwwi[\"Interaction_EditStamp\"] = pd.to_datetime(uwwi.Interaction_EditStamp, utc=True)\n",
        "\n",
        "uwwi.head()"
      ],
      "metadata": {
        "colab": {
          "base_uri": "https://localhost:8080/",
          "height": 386
        },
        "id": "771kOKqekMUW",
        "outputId": "9cde6a6d-cb53-4c5e-bc69-8ef457f0ffb1"
      },
      "execution_count": 30,
      "outputs": [
        {
          "output_type": "execute_result",
          "data": {
            "text/plain": [
              "   Client_Id          Interaction_CreateStamp  Interaction_ClientId  \\\n",
              "0       2882 2021-01-01 04:24:58.261829+00:00                  2882   \n",
              "1      19395 2021-01-01 02:33:09.491878+00:00                 19395   \n",
              "2      40920 2021-01-01 02:23:04.791292+00:00                 40920   \n",
              "3       2679 2021-01-01 01:57:46.375577+00:00                  2679   \n",
              "4       2680 2021-01-01 01:36:36.248750+00:00                  2680   \n",
              "\n",
              "   Interaction_Id Interaction_CreateAccountId_href_label  \\\n",
              "0          864821                  Sarah Weltzien (486)    \n",
              "1          864798                   Alexis Almond (950)    \n",
              "2          864795                   Alexis Almond (950)    \n",
              "3          864788                  Sarah Weltzien (486)    \n",
              "4          864781                       Kari Gabel (53)    \n",
              "\n",
              "   Interaction_CreatePortalId  Interaction_CreateFormsetDeploymentId  \\\n",
              "0                           1                                   1170   \n",
              "1                           1                                    689   \n",
              "2                           1                                    689   \n",
              "3                           1                                   1170   \n",
              "4                           1                                   1170   \n",
              "\n",
              "  Interaction_EditAccountId_href_label  Interaction_EditPortalId  \\\n",
              "0                Kelly McBride (1248)                          1   \n",
              "1                Kelly McBride (1248)                          1   \n",
              "2                Kelly McBride (1248)                          1   \n",
              "3                Kelly McBride (1248)                          1   \n",
              "4                Kelly McBride (1248)                          1   \n",
              "\n",
              "   Interaction_EditFormsetDeploymentId  ...  \\\n",
              "0                                 1433  ...   \n",
              "1                                 1433  ...   \n",
              "2                                 1433  ...   \n",
              "3                                 1433  ...   \n",
              "4                                 1433  ...   \n",
              "\n",
              "  InteractionOption_SwfSecondaryNeeds  InteractionOption_SwfCounty  \\\n",
              "0                                  []                           []   \n",
              "1                                  []                           []   \n",
              "2                                  []                           []   \n",
              "3                                  []                           []   \n",
              "4                                  []                           []   \n",
              "\n",
              "  InteractionOption_WhyWasThereNoReferralGiven  \\\n",
              "0                                           []   \n",
              "1                                           []   \n",
              "2                                           []   \n",
              "3                                           []   \n",
              "4                                           []   \n",
              "\n",
              "  InteractionOption_UnableToContact InteractionCustom_CallerReached  \\\n",
              "0                                []                      Unselected   \n",
              "1                                []                      Unselected   \n",
              "2                                []                      Unselected   \n",
              "3                                []                      Unselected   \n",
              "4                                []                      Unselected   \n",
              "\n",
              "  InteractionCustom_FollowUpUnmetNeeds InteractionCustom_FollowUpComplete  \\\n",
              "0                           Unselected                         Unselected   \n",
              "1                           Unselected                         Unselected   \n",
              "2                           Unselected                         Unselected   \n",
              "3                           Unselected                         Unselected   \n",
              "4                           Unselected                         Unselected   \n",
              "\n",
              "  InteractionCustom_FollowUpAttempt1 InteractionCustom_FollowUpAttempt2  \\\n",
              "0                                NaN                                NaN   \n",
              "1                                NaN                                NaN   \n",
              "2                                NaN                                NaN   \n",
              "3                                NaN                                NaN   \n",
              "4                                NaN                                NaN   \n",
              "\n",
              "  InteractionCustom_FollowUpAttempt3  \n",
              "0                                NaN  \n",
              "1                                NaN  \n",
              "2                                NaN  \n",
              "3                                NaN  \n",
              "4                                NaN  \n",
              "\n",
              "[5 rows x 40 columns]"
            ],
            "text/html": [
              "\n",
              "  <div id=\"df-438f4d32-1de1-4e8b-aa54-cfbd4292deb6\">\n",
              "    <div class=\"colab-df-container\">\n",
              "      <div>\n",
              "<style scoped>\n",
              "    .dataframe tbody tr th:only-of-type {\n",
              "        vertical-align: middle;\n",
              "    }\n",
              "\n",
              "    .dataframe tbody tr th {\n",
              "        vertical-align: top;\n",
              "    }\n",
              "\n",
              "    .dataframe thead th {\n",
              "        text-align: right;\n",
              "    }\n",
              "</style>\n",
              "<table border=\"1\" class=\"dataframe\">\n",
              "  <thead>\n",
              "    <tr style=\"text-align: right;\">\n",
              "      <th></th>\n",
              "      <th>Client_Id</th>\n",
              "      <th>Interaction_CreateStamp</th>\n",
              "      <th>Interaction_ClientId</th>\n",
              "      <th>Interaction_Id</th>\n",
              "      <th>Interaction_CreateAccountId_href_label</th>\n",
              "      <th>Interaction_CreatePortalId</th>\n",
              "      <th>Interaction_CreateFormsetDeploymentId</th>\n",
              "      <th>Interaction_EditAccountId_href_label</th>\n",
              "      <th>Interaction_EditPortalId</th>\n",
              "      <th>Interaction_EditFormsetDeploymentId</th>\n",
              "      <th>...</th>\n",
              "      <th>InteractionOption_SwfSecondaryNeeds</th>\n",
              "      <th>InteractionOption_SwfCounty</th>\n",
              "      <th>InteractionOption_WhyWasThereNoReferralGiven</th>\n",
              "      <th>InteractionOption_UnableToContact</th>\n",
              "      <th>InteractionCustom_CallerReached</th>\n",
              "      <th>InteractionCustom_FollowUpUnmetNeeds</th>\n",
              "      <th>InteractionCustom_FollowUpComplete</th>\n",
              "      <th>InteractionCustom_FollowUpAttempt1</th>\n",
              "      <th>InteractionCustom_FollowUpAttempt2</th>\n",
              "      <th>InteractionCustom_FollowUpAttempt3</th>\n",
              "    </tr>\n",
              "  </thead>\n",
              "  <tbody>\n",
              "    <tr>\n",
              "      <th>0</th>\n",
              "      <td>2882</td>\n",
              "      <td>2021-01-01 04:24:58.261829+00:00</td>\n",
              "      <td>2882</td>\n",
              "      <td>864821</td>\n",
              "      <td>Sarah Weltzien (486)</td>\n",
              "      <td>1</td>\n",
              "      <td>1170</td>\n",
              "      <td>Kelly McBride (1248)</td>\n",
              "      <td>1</td>\n",
              "      <td>1433</td>\n",
              "      <td>...</td>\n",
              "      <td>[]</td>\n",
              "      <td>[]</td>\n",
              "      <td>[]</td>\n",
              "      <td>[]</td>\n",
              "      <td>Unselected</td>\n",
              "      <td>Unselected</td>\n",
              "      <td>Unselected</td>\n",
              "      <td>NaN</td>\n",
              "      <td>NaN</td>\n",
              "      <td>NaN</td>\n",
              "    </tr>\n",
              "    <tr>\n",
              "      <th>1</th>\n",
              "      <td>19395</td>\n",
              "      <td>2021-01-01 02:33:09.491878+00:00</td>\n",
              "      <td>19395</td>\n",
              "      <td>864798</td>\n",
              "      <td>Alexis Almond (950)</td>\n",
              "      <td>1</td>\n",
              "      <td>689</td>\n",
              "      <td>Kelly McBride (1248)</td>\n",
              "      <td>1</td>\n",
              "      <td>1433</td>\n",
              "      <td>...</td>\n",
              "      <td>[]</td>\n",
              "      <td>[]</td>\n",
              "      <td>[]</td>\n",
              "      <td>[]</td>\n",
              "      <td>Unselected</td>\n",
              "      <td>Unselected</td>\n",
              "      <td>Unselected</td>\n",
              "      <td>NaN</td>\n",
              "      <td>NaN</td>\n",
              "      <td>NaN</td>\n",
              "    </tr>\n",
              "    <tr>\n",
              "      <th>2</th>\n",
              "      <td>40920</td>\n",
              "      <td>2021-01-01 02:23:04.791292+00:00</td>\n",
              "      <td>40920</td>\n",
              "      <td>864795</td>\n",
              "      <td>Alexis Almond (950)</td>\n",
              "      <td>1</td>\n",
              "      <td>689</td>\n",
              "      <td>Kelly McBride (1248)</td>\n",
              "      <td>1</td>\n",
              "      <td>1433</td>\n",
              "      <td>...</td>\n",
              "      <td>[]</td>\n",
              "      <td>[]</td>\n",
              "      <td>[]</td>\n",
              "      <td>[]</td>\n",
              "      <td>Unselected</td>\n",
              "      <td>Unselected</td>\n",
              "      <td>Unselected</td>\n",
              "      <td>NaN</td>\n",
              "      <td>NaN</td>\n",
              "      <td>NaN</td>\n",
              "    </tr>\n",
              "    <tr>\n",
              "      <th>3</th>\n",
              "      <td>2679</td>\n",
              "      <td>2021-01-01 01:57:46.375577+00:00</td>\n",
              "      <td>2679</td>\n",
              "      <td>864788</td>\n",
              "      <td>Sarah Weltzien (486)</td>\n",
              "      <td>1</td>\n",
              "      <td>1170</td>\n",
              "      <td>Kelly McBride (1248)</td>\n",
              "      <td>1</td>\n",
              "      <td>1433</td>\n",
              "      <td>...</td>\n",
              "      <td>[]</td>\n",
              "      <td>[]</td>\n",
              "      <td>[]</td>\n",
              "      <td>[]</td>\n",
              "      <td>Unselected</td>\n",
              "      <td>Unselected</td>\n",
              "      <td>Unselected</td>\n",
              "      <td>NaN</td>\n",
              "      <td>NaN</td>\n",
              "      <td>NaN</td>\n",
              "    </tr>\n",
              "    <tr>\n",
              "      <th>4</th>\n",
              "      <td>2680</td>\n",
              "      <td>2021-01-01 01:36:36.248750+00:00</td>\n",
              "      <td>2680</td>\n",
              "      <td>864781</td>\n",
              "      <td>Kari Gabel (53)</td>\n",
              "      <td>1</td>\n",
              "      <td>1170</td>\n",
              "      <td>Kelly McBride (1248)</td>\n",
              "      <td>1</td>\n",
              "      <td>1433</td>\n",
              "      <td>...</td>\n",
              "      <td>[]</td>\n",
              "      <td>[]</td>\n",
              "      <td>[]</td>\n",
              "      <td>[]</td>\n",
              "      <td>Unselected</td>\n",
              "      <td>Unselected</td>\n",
              "      <td>Unselected</td>\n",
              "      <td>NaN</td>\n",
              "      <td>NaN</td>\n",
              "      <td>NaN</td>\n",
              "    </tr>\n",
              "  </tbody>\n",
              "</table>\n",
              "<p>5 rows × 40 columns</p>\n",
              "</div>\n",
              "      <button class=\"colab-df-convert\" onclick=\"convertToInteractive('df-438f4d32-1de1-4e8b-aa54-cfbd4292deb6')\"\n",
              "              title=\"Convert this dataframe to an interactive table.\"\n",
              "              style=\"display:none;\">\n",
              "        \n",
              "  <svg xmlns=\"http://www.w3.org/2000/svg\" height=\"24px\"viewBox=\"0 0 24 24\"\n",
              "       width=\"24px\">\n",
              "    <path d=\"M0 0h24v24H0V0z\" fill=\"none\"/>\n",
              "    <path d=\"M18.56 5.44l.94 2.06.94-2.06 2.06-.94-2.06-.94-.94-2.06-.94 2.06-2.06.94zm-11 1L8.5 8.5l.94-2.06 2.06-.94-2.06-.94L8.5 2.5l-.94 2.06-2.06.94zm10 10l.94 2.06.94-2.06 2.06-.94-2.06-.94-.94-2.06-.94 2.06-2.06.94z\"/><path d=\"M17.41 7.96l-1.37-1.37c-.4-.4-.92-.59-1.43-.59-.52 0-1.04.2-1.43.59L10.3 9.45l-7.72 7.72c-.78.78-.78 2.05 0 2.83L4 21.41c.39.39.9.59 1.41.59.51 0 1.02-.2 1.41-.59l7.78-7.78 2.81-2.81c.8-.78.8-2.07 0-2.86zM5.41 20L4 18.59l7.72-7.72 1.47 1.35L5.41 20z\"/>\n",
              "  </svg>\n",
              "      </button>\n",
              "      \n",
              "  <style>\n",
              "    .colab-df-container {\n",
              "      display:flex;\n",
              "      flex-wrap:wrap;\n",
              "      gap: 12px;\n",
              "    }\n",
              "\n",
              "    .colab-df-convert {\n",
              "      background-color: #E8F0FE;\n",
              "      border: none;\n",
              "      border-radius: 50%;\n",
              "      cursor: pointer;\n",
              "      display: none;\n",
              "      fill: #1967D2;\n",
              "      height: 32px;\n",
              "      padding: 0 0 0 0;\n",
              "      width: 32px;\n",
              "    }\n",
              "\n",
              "    .colab-df-convert:hover {\n",
              "      background-color: #E2EBFA;\n",
              "      box-shadow: 0px 1px 2px rgba(60, 64, 67, 0.3), 0px 1px 3px 1px rgba(60, 64, 67, 0.15);\n",
              "      fill: #174EA6;\n",
              "    }\n",
              "\n",
              "    [theme=dark] .colab-df-convert {\n",
              "      background-color: #3B4455;\n",
              "      fill: #D2E3FC;\n",
              "    }\n",
              "\n",
              "    [theme=dark] .colab-df-convert:hover {\n",
              "      background-color: #434B5C;\n",
              "      box-shadow: 0px 1px 3px 1px rgba(0, 0, 0, 0.15);\n",
              "      filter: drop-shadow(0px 1px 2px rgba(0, 0, 0, 0.3));\n",
              "      fill: #FFFFFF;\n",
              "    }\n",
              "  </style>\n",
              "\n",
              "      <script>\n",
              "        const buttonEl =\n",
              "          document.querySelector('#df-438f4d32-1de1-4e8b-aa54-cfbd4292deb6 button.colab-df-convert');\n",
              "        buttonEl.style.display =\n",
              "          google.colab.kernel.accessAllowed ? 'block' : 'none';\n",
              "\n",
              "        async function convertToInteractive(key) {\n",
              "          const element = document.querySelector('#df-438f4d32-1de1-4e8b-aa54-cfbd4292deb6');\n",
              "          const dataTable =\n",
              "            await google.colab.kernel.invokeFunction('convertToInteractive',\n",
              "                                                     [key], {});\n",
              "          if (!dataTable) return;\n",
              "\n",
              "          const docLinkHtml = 'Like what you see? Visit the ' +\n",
              "            '<a target=\"_blank\" href=https://colab.research.google.com/notebooks/data_table.ipynb>data table notebook</a>'\n",
              "            + ' to learn more about interactive tables.';\n",
              "          element.innerHTML = '';\n",
              "          dataTable['output_type'] = 'display_data';\n",
              "          await google.colab.output.renderOutput(dataTable, element);\n",
              "          const docLink = document.createElement('div');\n",
              "          docLink.innerHTML = docLinkHtml;\n",
              "          element.appendChild(docLink);\n",
              "        }\n",
              "      </script>\n",
              "    </div>\n",
              "  </div>\n",
              "  "
            ]
          },
          "metadata": {},
          "execution_count": 30
        }
      ]
    },
    {
      "cell_type": "markdown",
      "source": [
        "# @ReadyWisconsin & UWWi Calls correlate"
      ],
      "metadata": {
        "id": "V5zSJQACmWX0"
      }
    },
    {
      "cell_type": "code",
      "source": [
        "plt.figure(figsize=(14,10))\n",
        "uwwi.Interaction_CreateStamp.hist(bins=365*3)\n",
        "tweets[\"date\"][tweets['date'] > \"2020-01-01\"].hist(bins=3*365)\n",
        "plt.legend(labels=[\"Calls UWWi\", \"Tweets @ReadyWisconsin\"])\n",
        "plt.show()"
      ],
      "metadata": {
        "colab": {
          "base_uri": "https://localhost:8080/",
          "height": 592
        },
        "id": "xssQnuXukhVk",
        "outputId": "bf6df16e-c91d-4395-e4d8-2553c2ec1a46"
      },
      "execution_count": 37,
      "outputs": [
        {
          "output_type": "display_data",
          "data": {
            "text/plain": [
              "<Figure size 1008x720 with 1 Axes>"
            ],
            "image/png": "[encoded data removed]"
          },
          "metadata": {
            "needs_background": "light"
          }
        }
      ]
    },
    {
      "cell_type": "markdown",
      "source": [
        "## on average 3 tweets/day, max 57/d"
      ],
      "metadata": {
        "id": "ArEChr5gnVPN"
      }
    },
    {
      "cell_type": "code",
      "source": [
        "tweets20 = tweets[tweets['date'] > \"2020-01-01\"]\n",
        "tweets20_count = tweets20[\"url\"].groupby(tweets20['date'].dt.floor('d')).count()\n",
        "tweets20_count.describe()"
      ],
      "metadata": {
        "colab": {
          "base_uri": "https://localhost:8080/"
        },
        "id": "y85RNhBKmEGe",
        "outputId": "463bb78f-7c47-4c8d-afab-e8098246b213"
      },
      "execution_count": 48,
      "outputs": [
        {
          "output_type": "execute_result",
          "data": {
            "text/plain": [
              "count    901.000000\n",
              "mean       3.264151\n",
              "std        5.167971\n",
              "min        1.000000\n",
              "25%        1.000000\n",
              "50%        2.000000\n",
              "75%        3.000000\n",
              "max       57.000000\n",
              "Name: url, dtype: float64"
            ]
          },
          "metadata": {},
          "execution_count": 48
        }
      ]
    },
    {
      "cell_type": "code",
      "source": [
        "tweets20_count"
      ],
      "metadata": {
        "colab": {
          "base_uri": "https://localhost:8080/"
        },
        "id": "Eid-VShCnxvW",
        "outputId": "82698a6b-2684-4406-87a5-2cbcccfaf088"
      },
      "execution_count": 50,
      "outputs": [
        {
          "output_type": "execute_result",
          "data": {
            "text/plain": [
              "date\n",
              "2020-01-01 00:00:00+00:00    2\n",
              "2020-01-02 00:00:00+00:00    1\n",
              "2020-01-03 00:00:00+00:00    1\n",
              "2020-01-06 00:00:00+00:00    2\n",
              "2020-01-07 00:00:00+00:00    1\n",
              "                            ..\n",
              "2022-11-28 00:00:00+00:00    8\n",
              "2022-11-29 00:00:00+00:00    5\n",
              "2022-11-30 00:00:00+00:00    3\n",
              "2022-12-01 00:00:00+00:00    1\n",
              "2022-12-02 00:00:00+00:00    1\n",
              "Name: url, Length: 901, dtype: int64"
            ]
          },
          "metadata": {},
          "execution_count": 50
        }
      ]
    },
    {
      "cell_type": "code",
      "source": [
        "uwwi.Interaction_CreateStamp.groupby(uwwi[\"Interaction_CreateStamp\"].dt.floor('d')).count()"
      ],
      "metadata": {
        "colab": {
          "base_uri": "https://localhost:8080/"
        },
        "id": "Pu3c4n6lnhDp",
        "outputId": "d4e99e11-d383-491e-c784-d9987985a884"
      },
      "execution_count": 49,
      "outputs": [
        {
          "output_type": "execute_result",
          "data": {
            "text/plain": [
              "Interaction_CreateStamp\n",
              "2020-01-01 00:00:00+00:00    35\n",
              "2020-01-02 00:00:00+00:00    46\n",
              "2020-01-03 00:00:00+00:00    43\n",
              "2020-01-04 00:00:00+00:00    34\n",
              "2020-01-05 00:00:00+00:00    14\n",
              "                             ..\n",
              "2022-11-27 00:00:00+00:00    12\n",
              "2022-11-28 00:00:00+00:00    28\n",
              "2022-11-29 00:00:00+00:00    24\n",
              "2022-11-30 00:00:00+00:00    23\n",
              "2022-12-01 00:00:00+00:00    13\n",
              "Name: Interaction_CreateStamp, Length: 1066, dtype: int64"
            ]
          },
          "metadata": {},
          "execution_count": 49
        }
      ]
    }
  ]
}